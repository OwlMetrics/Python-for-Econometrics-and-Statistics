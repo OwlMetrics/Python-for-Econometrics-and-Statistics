{
 "cells": [
  {
   "cell_type": "markdown",
   "metadata": {},
   "source": [
    "# Content List\n",
    "***\n",
    "> ### 1. Introduction to Python\n",
    "> ### 2. Numpy and Scientific Computing\n",
    "> ### 3. Probability and Statistics\n",
    "> ### 4. Pandas and Data Analysis\n",
    "> ### [5. Optimization and Root Finding](https://nbviewer.jupyter.org/github/OwlMetrics/Python-for-Econometrics-and-Statistics/blob/master/5.%20Optimization%20and%20Root%20Finding.ipynb?flush_cache=true)\n",
    "> ### [6. Performance Improvement](https://nbviewer.jupyter.org/github/OwlMetrics/Python-for-Econometrics-and-Statistics/blob/master/6.%20Performance%20Improvement.ipynb?flush_cache=true)\n",
    "> ### 7. Parallel Computation\n",
    "> ### 8. Data Visualization\n",
    "> ### 9. Econometric and Statistical Models\n"
   ]
  }
 ],
 "metadata": {
  "kernelspec": {
   "display_name": "Python 3",
   "language": "python",
   "name": "python3"
  },
  "language_info": {
   "codemirror_mode": {
    "name": "ipython",
    "version": 3
   },
   "file_extension": ".py",
   "mimetype": "text/x-python",
   "name": "python",
   "nbconvert_exporter": "python",
   "pygments_lexer": "ipython3",
   "version": "3.6.3"
  }
 },
 "nbformat": 4,
 "nbformat_minor": 2
}
